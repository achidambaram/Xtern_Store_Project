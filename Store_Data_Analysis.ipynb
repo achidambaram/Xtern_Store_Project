{
 "cells": [
  {
   "cell_type": "markdown",
   "id": "22decd1b-fdcd-4b13-9422-6fdef03e0fad",
   "metadata": {},
   "source": [
    "# Part 1: Reading the Data"
   ]
  },
  {
   "cell_type": "code",
   "execution_count": 6,
   "id": "30ffd31e-63fb-48c5-8aa1-137fd7ff5d58",
   "metadata": {},
   "outputs": [],
   "source": [
    "# Reading the dataset Stores_Info\n",
    "\n",
    "storesInfo <- read.csv(\"Stores_Info.csv\")"
   ]
  },
  {
   "cell_type": "code",
   "execution_count": 7,
   "id": "ce77f8d8-e9aa-4a09-a077-4e87203e7984",
   "metadata": {},
   "outputs": [],
   "source": [
    "options(jupyter.rich_display = F)"
   ]
  },
  {
   "cell_type": "code",
   "execution_count": 8,
   "id": "491a3221-0417-4933-8032-0cfae8c78d61",
   "metadata": {},
   "outputs": [
    {
     "data": {
      "text/plain": [
       "  Name                  Address                                      Rating\n",
       "1 IHOP                  4215 South St, Lafayette, IN 47905           3.7   \n",
       "2 Millie's Thrift Store 101 Plaza Ln, Lafayette, IN 47909            4.7   \n",
       "3 Indianapolis Zoo      1200 W Washington St, Indianapolis, IN 46222 3.7   \n",
       "4 Burger King           2175 Greenbush St, Lafayette, IN 47904       3.7   \n",
       "5 Discount Den          618 W Stadium Ave, West Lafayette, IN 47906  4.1   \n",
       "6 Burlington            100 S Creasy Ln, Lafayette, IN 47905         4.3   \n",
       "  Website                          Type                 Time.of.Arrival\n",
       "1 https://www.ihop.com/            Breakfast Restaurant 9:00           \n",
       "2 https://milliesthriftstore.com/  Thrift Store         9:40           \n",
       "3 https://www.indianapoliszoo.com/ Zoo                  10:05          \n",
       "4 https://www.bk.com/              Fast Food Restaurant 13:30          \n",
       "5 https://thedenpop.com/           Convenience Store    14:30          \n",
       "6 https://www.burlington.com/      Clothing Store       17:00          \n",
       "  Time.of.Departure Total.Time.Spent..minutes.\n",
       "1 9:30               30                       \n",
       "2 10:05              25                       \n",
       "3 13:15             195                       \n",
       "4 14:05              35                       \n",
       "5 14:40              10                       \n",
       "6 18:30              90                       "
      ]
     },
     "metadata": {},
     "output_type": "display_data"
    }
   ],
   "source": [
    "# Extracting the first 6 rows for each column \n",
    "\n",
    "head(storesInfo)"
   ]
  },
  {
   "cell_type": "code",
   "execution_count": 9,
   "id": "75ed0b3f-3d57-4ae4-acf2-a106d26d711f",
   "metadata": {},
   "outputs": [
    {
     "name": "stdout",
     "output_type": "stream",
     "text": [
      "[1] 8\n"
     ]
    }
   ],
   "source": [
    "# Returns number of rows in the dataframe\n",
    "\n",
    "print(nrow(storesInfo))"
   ]
  },
  {
   "cell_type": "code",
   "execution_count": 10,
   "id": "e2f04cee-d487-431f-a3b1-a5a1ab8f5ff8",
   "metadata": {},
   "outputs": [
    {
     "name": "stdout",
     "output_type": "stream",
     "text": [
      "[1] 8\n"
     ]
    }
   ],
   "source": [
    "# Returns number of columns in the dataframe\n",
    "\n",
    "print(ncol(storesInfo))"
   ]
  },
  {
   "cell_type": "code",
   "execution_count": 11,
   "id": "21b4f3d1-3a5c-4704-8c94-95398be2e5df",
   "metadata": {},
   "outputs": [
    {
     "name": "stdout",
     "output_type": "stream",
     "text": [
      " chr [1:8] \"4215 South St, Lafayette, IN 47905\" ...\n"
     ]
    }
   ],
   "source": [
    "# Address column is of the 'character' type\n",
    "\n",
    "str(storesInfo$Address)"
   ]
  },
  {
   "cell_type": "code",
   "execution_count": 12,
   "id": "05e99116-eef8-4145-9243-f1abd8eeace6",
   "metadata": {},
   "outputs": [
    {
     "name": "stdout",
     "output_type": "stream",
     "text": [
      " chr [1:8] \"https://www.ihop.com/\" \"https://milliesthriftstore.com/\" ...\n"
     ]
    }
   ],
   "source": [
    "# Website column is of the 'character' type\n",
    "\n",
    "str(storesInfo$Website)"
   ]
  },
  {
   "cell_type": "code",
   "execution_count": 13,
   "id": "df061fbc-28a2-4c31-8e5b-50ef8cbeb3b5",
   "metadata": {},
   "outputs": [
    {
     "name": "stdout",
     "output_type": "stream",
     "text": [
      " int [1:8] 30 25 195 35 10 90 75 30\n"
     ]
    }
   ],
   "source": [
    "# TotalTimeSpent column is not properly formatted. Column is of Integer type\n",
    "\n",
    "str(storesInfo$Total.Time.Spent..minutes)"
   ]
  },
  {
   "cell_type": "code",
   "execution_count": 14,
   "id": "6c6fdea7-a4c2-42ae-87b5-e45fe0aaa830",
   "metadata": {},
   "outputs": [
    {
     "data": {
      "text/plain": [
       "  Name                      \n",
       "1 IHOP                      \n",
       "2 Millie's Thrift Store     \n",
       "3 Indianapolis Zoo          \n",
       "4 Burger King               \n",
       "5 Discount Den              \n",
       "6 Burlington                \n",
       "7 Walls Furniture & Mattress\n",
       "8 Basil                     "
      ]
     },
     "metadata": {},
     "output_type": "display_data"
    }
   ],
   "source": [
    "# Looking at the Name column\n",
    "\n",
    "storesInfo[\"Name\"]"
   ]
  },
  {
   "cell_type": "markdown",
   "id": "d5adeef4-5c58-4a58-84f6-1f0f880d7505",
   "metadata": {},
   "source": [
    "# Part 2: Cleaning the Data"
   ]
  },
  {
   "cell_type": "code",
   "execution_count": 15,
   "id": "8cb76a3f-f11c-40f6-898d-6259c2496060",
   "metadata": {},
   "outputs": [],
   "source": [
    "colnames(storesInfo)[6] <- \"TimeOfArrival\""
   ]
  },
  {
   "cell_type": "code",
   "execution_count": 16,
   "id": "dd777240-f046-4d69-827c-bd4428f6079f",
   "metadata": {},
   "outputs": [],
   "source": [
    "colnames(storesInfo)[7] <- \"TimeOfDeparture\""
   ]
  },
  {
   "cell_type": "code",
   "execution_count": 17,
   "id": "9b54b00b-6d73-49c1-b00e-d4e5c9aa5bb1",
   "metadata": {},
   "outputs": [],
   "source": [
    "colnames(storesInfo)[8] <- \"TotalTimeSpent\""
   ]
  },
  {
   "cell_type": "code",
   "execution_count": 18,
   "id": "c62ce675-8ce1-4ee6-a8ef-ee6321fbf226",
   "metadata": {},
   "outputs": [
    {
     "data": {
      "text/plain": [
       "  Name                  Address                                      Rating\n",
       "1 IHOP                  4215 South St, Lafayette, IN 47905           3.7   \n",
       "2 Millie's Thrift Store 101 Plaza Ln, Lafayette, IN 47909            4.7   \n",
       "3 Indianapolis Zoo      1200 W Washington St, Indianapolis, IN 46222 3.7   \n",
       "4 Burger King           2175 Greenbush St, Lafayette, IN 47904       3.7   \n",
       "5 Discount Den          618 W Stadium Ave, West Lafayette, IN 47906  4.1   \n",
       "6 Burlington            100 S Creasy Ln, Lafayette, IN 47905         4.3   \n",
       "  Website                          Type                 TimeOfArrival\n",
       "1 https://www.ihop.com/            Breakfast Restaurant 9:00         \n",
       "2 https://milliesthriftstore.com/  Thrift Store         9:40         \n",
       "3 https://www.indianapoliszoo.com/ Zoo                  10:05        \n",
       "4 https://www.bk.com/              Fast Food Restaurant 13:30        \n",
       "5 https://thedenpop.com/           Convenience Store    14:30        \n",
       "6 https://www.burlington.com/      Clothing Store       17:00        \n",
       "  TimeOfDeparture TotalTimeSpent\n",
       "1 9:30             30           \n",
       "2 10:05            25           \n",
       "3 13:15           195           \n",
       "4 14:05            35           \n",
       "5 14:40            10           \n",
       "6 18:30            90           "
      ]
     },
     "metadata": {},
     "output_type": "display_data"
    }
   ],
   "source": [
    "head(storesInfo)"
   ]
  },
  {
   "cell_type": "code",
   "execution_count": 19,
   "id": "75ce2a51-8da0-4f97-8b85-f6d7d3e52f3a",
   "metadata": {},
   "outputs": [],
   "source": [
    "# Converting the values under Total Time spent into proper time format.\n",
    "\n",
    "storesInfo[1, 8] = \"0:30:00\""
   ]
  },
  {
   "cell_type": "code",
   "execution_count": 20,
   "id": "5d65cd0f-3676-44fe-8c91-56e446b4146c",
   "metadata": {},
   "outputs": [],
   "source": [
    "storesInfo[2, 8] = \"0:25:00\""
   ]
  },
  {
   "cell_type": "code",
   "execution_count": 21,
   "id": "a55b294f-b9e4-4b49-8480-2e3ce118f064",
   "metadata": {},
   "outputs": [],
   "source": [
    "storesInfo[3, 8] = \"3:15:00\""
   ]
  },
  {
   "cell_type": "code",
   "execution_count": 22,
   "id": "f5a82ce4-3df5-41df-8879-7f57961aa951",
   "metadata": {},
   "outputs": [],
   "source": [
    "storesInfo[4, 8] = \"0:35:00\""
   ]
  },
  {
   "cell_type": "code",
   "execution_count": 23,
   "id": "b66487f7-adef-4ba1-8419-97f50adf5eb0",
   "metadata": {},
   "outputs": [],
   "source": [
    "storesInfo[5, 8] = \"0:10:00\""
   ]
  },
  {
   "cell_type": "code",
   "execution_count": 24,
   "id": "70a02698-2585-46ca-b92d-f2e88019d353",
   "metadata": {},
   "outputs": [],
   "source": [
    "storesInfo[6, 8] = \"1:30:00\""
   ]
  },
  {
   "cell_type": "code",
   "execution_count": 25,
   "id": "e47bb53c-537e-44e3-bdde-1e30a3d069bd",
   "metadata": {},
   "outputs": [],
   "source": [
    "storesInfo[7, 8] = \"1:15:00\""
   ]
  },
  {
   "cell_type": "code",
   "execution_count": 26,
   "id": "5f7c4cc6-3869-47d6-9dcc-8df06dacc445",
   "metadata": {},
   "outputs": [],
   "source": [
    "storesInfo[8, 8] = \"0:30:00\""
   ]
  },
  {
   "cell_type": "code",
   "execution_count": 27,
   "id": "470c90c5-f111-4c26-b299-9111c499d8d7",
   "metadata": {},
   "outputs": [
    {
     "data": {
      "text/plain": [
       "  Name                  Address                                      Rating\n",
       "1 IHOP                  4215 South St, Lafayette, IN 47905           3.7   \n",
       "2 Millie's Thrift Store 101 Plaza Ln, Lafayette, IN 47909            4.7   \n",
       "3 Indianapolis Zoo      1200 W Washington St, Indianapolis, IN 46222 3.7   \n",
       "4 Burger King           2175 Greenbush St, Lafayette, IN 47904       3.7   \n",
       "5 Discount Den          618 W Stadium Ave, West Lafayette, IN 47906  4.1   \n",
       "6 Burlington            100 S Creasy Ln, Lafayette, IN 47905         4.3   \n",
       "  Website                          Type                 TimeOfArrival\n",
       "1 https://www.ihop.com/            Breakfast Restaurant 9:00         \n",
       "2 https://milliesthriftstore.com/  Thrift Store         9:40         \n",
       "3 https://www.indianapoliszoo.com/ Zoo                  10:05        \n",
       "4 https://www.bk.com/              Fast Food Restaurant 13:30        \n",
       "5 https://thedenpop.com/           Convenience Store    14:30        \n",
       "6 https://www.burlington.com/      Clothing Store       17:00        \n",
       "  TimeOfDeparture TotalTimeSpent\n",
       "1 9:30            0:30:00       \n",
       "2 10:05           0:25:00       \n",
       "3 13:15           3:15:00       \n",
       "4 14:05           0:35:00       \n",
       "5 14:40           0:10:00       \n",
       "6 18:30           1:30:00       "
      ]
     },
     "metadata": {},
     "output_type": "display_data"
    }
   ],
   "source": [
    "head(storesInfo)"
   ]
  },
  {
   "cell_type": "code",
   "execution_count": 28,
   "id": "2c0a29e9-2f5e-485f-9eac-bc5e6f3d4f2c",
   "metadata": {},
   "outputs": [],
   "source": [
    "# Using the lubridate library\n",
    "\n",
    "library(lubridate)"
   ]
  },
  {
   "cell_type": "code",
   "execution_count": 29,
   "id": "5efc8510-cef3-435a-a32e-704296d9ed76",
   "metadata": {},
   "outputs": [],
   "source": [
    "# Converting digital time to Hours, Minutes, and Seconds format.\n",
    "\n",
    "res <- hms(storesInfo$TotalTimeSpent)  "
   ]
  },
  {
   "cell_type": "code",
   "execution_count": 30,
   "id": "19a758e3-9f2a-42fa-8929-9ea676ca2be1",
   "metadata": {},
   "outputs": [
    {
     "data": {
      "text/plain": [
       "[1] \"30M 0S\"    \"25M 0S\"    \"3H 15M 0S\" \"35M 0S\"    \"10M 0S\"    \"1H 30M 0S\""
      ]
     },
     "metadata": {},
     "output_type": "display_data"
    }
   ],
   "source": [
    "# Displaying the first 6 rows in the TotalTimeSpent column\n",
    "\n",
    "head(res)"
   ]
  },
  {
   "cell_type": "code",
   "execution_count": 31,
   "id": "0efa3777-03c8-460d-af86-bf3e7d92c5ba",
   "metadata": {},
   "outputs": [],
   "source": [
    "# Setting the list to the TotalTimeSpent variable\n",
    "\n",
    "storesInfo$TotalTimeSpent <- res"
   ]
  },
  {
   "cell_type": "code",
   "execution_count": 32,
   "id": "64fffe5a-cad8-4d1b-a0f3-ebe2061db12c",
   "metadata": {},
   "outputs": [
    {
     "data": {
      "text/plain": [
       "  Name                  Address                                      Rating\n",
       "1 IHOP                  4215 South St, Lafayette, IN 47905           3.7   \n",
       "2 Millie's Thrift Store 101 Plaza Ln, Lafayette, IN 47909            4.7   \n",
       "3 Indianapolis Zoo      1200 W Washington St, Indianapolis, IN 46222 3.7   \n",
       "4 Burger King           2175 Greenbush St, Lafayette, IN 47904       3.7   \n",
       "5 Discount Den          618 W Stadium Ave, West Lafayette, IN 47906  4.1   \n",
       "6 Burlington            100 S Creasy Ln, Lafayette, IN 47905         4.3   \n",
       "  Website                          Type                 TimeOfArrival\n",
       "1 https://www.ihop.com/            Breakfast Restaurant 9:00         \n",
       "2 https://milliesthriftstore.com/  Thrift Store         9:40         \n",
       "3 https://www.indianapoliszoo.com/ Zoo                  10:05        \n",
       "4 https://www.bk.com/              Fast Food Restaurant 13:30        \n",
       "5 https://thedenpop.com/           Convenience Store    14:30        \n",
       "6 https://www.burlington.com/      Clothing Store       17:00        \n",
       "  TimeOfDeparture TotalTimeSpent\n",
       "1 9:30            30M 0S        \n",
       "2 10:05           25M 0S        \n",
       "3 13:15           3H 15M 0S     \n",
       "4 14:05           35M 0S        \n",
       "5 14:40           10M 0S        \n",
       "6 18:30           1H 30M 0S     "
      ]
     },
     "metadata": {},
     "output_type": "display_data"
    }
   ],
   "source": [
    "# Displaying the table to see the updated version\n",
    "\n",
    "head(storesInfo)"
   ]
  },
  {
   "cell_type": "markdown",
   "id": "a946c7f3-15ab-40ca-bdb2-4da88db7eb1f",
   "metadata": {},
   "source": [
    "# Part 3: Analysis"
   ]
  },
  {
   "cell_type": "code",
   "execution_count": 33,
   "id": "f831a3d4-a250-423c-9655-a4fc8980dbe5",
   "metadata": {},
   "outputs": [
    {
     "data": {
      "text/plain": [
       "  Name                  Address                                      Rating\n",
       "1 IHOP                  4215 South St, Lafayette, IN 47905           3.7   \n",
       "2 Millie's Thrift Store 101 Plaza Ln, Lafayette, IN 47909            4.7   \n",
       "3 Indianapolis Zoo      1200 W Washington St, Indianapolis, IN 46222 3.7   \n",
       "4 Burger King           2175 Greenbush St, Lafayette, IN 47904       3.7   \n",
       "5 Discount Den          618 W Stadium Ave, West Lafayette, IN 47906  4.1   \n",
       "6 Burlington            100 S Creasy Ln, Lafayette, IN 47905         4.3   \n",
       "  Website                          Type                 TimeOfArrival\n",
       "1 https://www.ihop.com/            Breakfast Restaurant 9:00         \n",
       "2 https://milliesthriftstore.com/  Thrift Store         9:40         \n",
       "3 https://www.indianapoliszoo.com/ Zoo                  10:05        \n",
       "4 https://www.bk.com/              Fast Food Restaurant 13:30        \n",
       "5 https://thedenpop.com/           Convenience Store    14:30        \n",
       "6 https://www.burlington.com/      Clothing Store       17:00        \n",
       "  TimeOfDeparture TotalTimeSpent\n",
       "1 9:30            30M 0S        \n",
       "2 10:05           25M 0S        \n",
       "3 13:15           3H 15M 0S     \n",
       "4 14:05           35M 0S        \n",
       "5 14:40           10M 0S        \n",
       "6 18:30           1H 30M 0S     "
      ]
     },
     "metadata": {},
     "output_type": "display_data"
    }
   ],
   "source": [
    "head(storesInfo)"
   ]
  },
  {
   "cell_type": "code",
   "execution_count": 34,
   "id": "6c40462f-4980-4bea-bc12-b14270223f85",
   "metadata": {},
   "outputs": [
    {
     "data": {
      "text/plain": [
       "[1] \"Millie's Thrift Store\"      \"Discount Den\"              \n",
       "[3] \"Burlington\"                 \"Walls Furniture & Mattress\"\n",
       "[5] \"Basil\"                     "
      ]
     },
     "metadata": {},
     "output_type": "display_data"
    }
   ],
   "source": [
    "# Extracting the first 6 stores with a rating over 3.8\n",
    "\n",
    "head(storesInfo$Name[storesInfo$Rating > 3.8])"
   ]
  },
  {
   "cell_type": "code",
   "execution_count": 35,
   "id": "0028b006-0e0a-42d6-8739-248a81c1e733",
   "metadata": {},
   "outputs": [
    {
     "data": {
      "text/plain": [
       "[1] 2"
      ]
     },
     "metadata": {},
     "output_type": "display_data"
    }
   ],
   "source": [
    "# Getting the total number of stores which have high ratings (>4.5). High quality stores and Dining areas.\n",
    "\n",
    "highRatedStores <- sum(storesInfo$Rating > 4.5)\n",
    "highRatedStores\n"
   ]
  },
  {
   "cell_type": "code",
   "execution_count": 36,
   "id": "90d537d9-a7b0-4fd8-a478-e467b288d311",
   "metadata": {},
   "outputs": [
    {
     "data": {
      "text/plain": [
       "[1] 3"
      ]
     },
     "metadata": {},
     "output_type": "display_data"
    }
   ],
   "source": [
    "# Getting the total number of stores which have medium ratings (>3.8 and <4.5). Medium quality stores and Dining areas.\n",
    "\n",
    "mediumRatedStores <- sum(storesInfo$Rating > 3.8 & storesInfo$Rating < 4.5)\n",
    "mediumRatedStores\n"
   ]
  },
  {
   "cell_type": "code",
   "execution_count": 37,
   "id": "8933e249-c739-4777-8f6e-0175dac2c890",
   "metadata": {},
   "outputs": [
    {
     "data": {
      "text/plain": [
       "[1] 3"
      ]
     },
     "metadata": {},
     "output_type": "display_data"
    }
   ],
   "source": [
    "# Getting the total number of stores which have low ratings (<3.8). Low quality stores and Dining areas.\n",
    "\n",
    "lowRatedStores <- sum(storesInfo$Rating < 3.8)\n",
    "lowRatedStores\n"
   ]
  },
  {
   "cell_type": "code",
   "execution_count": 38,
   "id": "275e759a-15b5-4c4a-8336-2c34556c9276",
   "metadata": {},
   "outputs": [],
   "source": [
    "# Converted to vectorized data\n",
    "\n",
    "ratingsGraph <- c(lowRatedStores, mediumRatedStores, highRatedStores)"
   ]
  },
  {
   "cell_type": "code",
   "execution_count": 39,
   "id": "c4746ea1-6e9a-4c8b-9bb4-ff5954264e64",
   "metadata": {},
   "outputs": [],
   "source": [
    "names(ratingsGraph) <- c(\"LOW RATINGS\", \"MEDIUM RATINGS\", \"HIGH RATINGS\")"
   ]
  },
  {
   "cell_type": "code",
   "execution_count": 40,
   "id": "5d04a15d-c77f-4627-95aa-71ec047fab68",
   "metadata": {},
   "outputs": [
    {
     "data": {
      "image/png": "[encoded data removed]",
      "text/plain": [
       "plot without title"
      ]
     },
     "metadata": {
      "image/png": {
       "height": 420,
       "width": 420
      }
     },
     "output_type": "display_data"
    }
   ],
   "source": [
    "# Creates a barplot of the data (x-axis: stores and y-axis: ratings for each store)\n",
    "\n",
    "barplot(ratingsGraph)"
   ]
  },
  {
   "cell_type": "markdown",
   "id": "2a62b35a-65cd-4391-a4d5-aef1977ce7b9",
   "metadata": {},
   "source": [
    "From the barplot, we can see that the individual went to three stores/restaurants with low ratings, 3 stores/restaurants with medium ratings, and 2 stores/restaurants with high ratings."
   ]
  },
  {
   "cell_type": "code",
   "execution_count": 41,
   "id": "a38eaf89-7794-497b-91f1-227ee7b57266",
   "metadata": {},
   "outputs": [],
   "source": [
    "# importing lubridate library\n",
    "\n",
    "library(lubridate)"
   ]
  },
  {
   "cell_type": "code",
   "execution_count": 42,
   "id": "b145c384-c1ac-4685-8a1f-ac0cfa8d1585",
   "metadata": {},
   "outputs": [],
   "source": [
    "# Converting back from hours:minutes:seconds format back to minutes\n",
    "\n",
    "res <- hour(res)*60 + minute(res)   \n",
    "storesInfo$TotalTimeSpent <- res"
   ]
  },
  {
   "cell_type": "code",
   "execution_count": 45,
   "id": "b64d9aad-2e6e-4aeb-8352-81743acca60c",
   "metadata": {},
   "outputs": [
    {
     "data": {
      "text/plain": [
       "  Name                  Address                                      Rating\n",
       "1 IHOP                  4215 South St, Lafayette, IN 47905           3.7   \n",
       "2 Millie's Thrift Store 101 Plaza Ln, Lafayette, IN 47909            4.7   \n",
       "3 Indianapolis Zoo      1200 W Washington St, Indianapolis, IN 46222 3.7   \n",
       "4 Burger King           2175 Greenbush St, Lafayette, IN 47904       3.7   \n",
       "5 Discount Den          618 W Stadium Ave, West Lafayette, IN 47906  4.1   \n",
       "6 Burlington            100 S Creasy Ln, Lafayette, IN 47905         4.3   \n",
       "  Website                          Type                 TimeOfArrival\n",
       "1 https://www.ihop.com/            Breakfast Restaurant 9:00         \n",
       "2 https://milliesthriftstore.com/  Thrift Store         9:40         \n",
       "3 https://www.indianapoliszoo.com/ Zoo                  10:05        \n",
       "4 https://www.bk.com/              Fast Food Restaurant 13:30        \n",
       "5 https://thedenpop.com/           Convenience Store    14:30        \n",
       "6 https://www.burlington.com/      Clothing Store       17:00        \n",
       "  TimeOfDeparture TotalTimeSpent\n",
       "1 9:30             30           \n",
       "2 10:05            25           \n",
       "3 13:15           195           \n",
       "4 14:05            35           \n",
       "5 14:40            10           \n",
       "6 18:30            90           "
      ]
     },
     "metadata": {},
     "output_type": "display_data"
    }
   ],
   "source": [
    "head(storesInfo)"
   ]
  },
  {
   "cell_type": "code",
   "execution_count": 51,
   "id": "72f5ba54-b77d-41b1-8525-d2a1a154f439",
   "metadata": {},
   "outputs": [
    {
     "data": {
      "text/plain": [
       "[1] 3"
      ]
     },
     "metadata": {},
     "output_type": "display_data"
    }
   ],
   "source": [
    "overHour <- sum(storesInfo$TotalTimeSpent > 60)\n",
    "overHour"
   ]
  },
  {
   "cell_type": "code",
   "execution_count": 54,
   "id": "6ee968f7-ffee-4f41-8e7d-7e8780a15026",
   "metadata": {},
   "outputs": [
    {
     "data": {
      "text/plain": [
       "[1] 5"
      ]
     },
     "metadata": {},
     "output_type": "display_data"
    }
   ],
   "source": [
    "underHour <- sum(storesInfo$TotalTimeSpent < 60)\n",
    "underHour"
   ]
  },
  {
   "cell_type": "code",
   "execution_count": 55,
   "id": "b0d95d10-0c49-4085-93a7-874e4012bb67",
   "metadata": {},
   "outputs": [],
   "source": [
    "hourSpentGraph <- c(underHour, overHour)"
   ]
  },
  {
   "cell_type": "code",
   "execution_count": 56,
   "id": "90a934bf-2da3-4550-82e9-c0fc627b030c",
   "metadata": {},
   "outputs": [],
   "source": [
    "names(hourSpentGraph) <- c(\"<60 min\", \">60 min\")"
   ]
  },
  {
   "cell_type": "code",
   "execution_count": 57,
   "id": "61d27886-59e8-4b50-acc5-14f813729f1f",
   "metadata": {},
   "outputs": [
    {
     "data": {
      "image/png": "[encoded data removed]",
      "text/plain": [
       "plot without title"
      ]
     },
     "metadata": {
      "image/png": {
       "height": 420,
       "width": 420
      }
     },
     "output_type": "display_data"
    }
   ],
   "source": [
    "barplot(hourSpentGraph)"
   ]
  },
  {
   "cell_type": "markdown",
   "id": "e1c80760-6dbf-4dab-91ab-14a9f5c60c6d",
   "metadata": {},
   "source": [
    "From the barplot, we can see that the individual spent more than a hour at 5 stores, and less than a hour at 3 stores."
   ]
  }
 ],
 "metadata": {
  "kernelspec": {
   "display_name": "f2022-s2023-r",
   "language": "R",
   "name": "f2022-s2023-r"
  },
  "language_info": {
   "codemirror_mode": "r",
   "file_extension": ".r",
   "mimetype": "text/x-r-source",
   "name": "R",
   "pygments_lexer": "r",
   "version": "4.2.1"
  }
 },
 "nbformat": 4,
 "nbformat_minor": 5
}
